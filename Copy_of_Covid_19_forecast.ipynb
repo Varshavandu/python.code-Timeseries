{
  "cells": [
    {
      "cell_type": "markdown",
      "metadata": {
        "id": "view-in-github",
        "colab_type": "text"
      },
      "source": [
        "<a href=\"https://colab.research.google.com/github/Varshavandu/python.code-Timeseries/blob/main/Copy_of_Covid_19_forecast.ipynb\" target=\"_parent\"><img src=\"https://colab.research.google.com/assets/colab-badge.svg\" alt=\"Open In Colab\"/></a>"
      ]
    },
    {
      "cell_type": "code",
      "execution_count": null,
      "metadata": {
        "id": "uSHJRqzAH1Is"
      },
      "outputs": [],
      "source": [
        "import pandas as pd\n",
        "from datetime import datetime, timedelta\n",
        "from matplotlib import pyplot as plt\n",
        "from matplotlib import dates as mpl_dates\n",
        "import numpy as np"
      ]
    },
    {
      "cell_type": "code",
      "execution_count": null,
      "metadata": {
        "id": "-RDEgM15I7XS"
      },
      "outputs": [],
      "source": [
        "from google.colab import drive\n",
        "drive.mount('/content/drive')"
      ]
    },
    {
      "cell_type": "code",
      "execution_count": null,
      "metadata": {
        "id": "2jACNFzPcFS1"
      },
      "outputs": [],
      "source": [
        "df=pd.read_csv('/content/drive/MyDrive/Daily Cases.csv')\n",
        "df.head()"
      ]
    },
    {
      "cell_type": "code",
      "execution_count": null,
      "metadata": {
        "id": "7Bsq-0ppqMmc"
      },
      "outputs": [],
      "source": [
        "# Convert the 'date' column to datetime format\n",
        "df['date'] = pd.to_datetime(df['Date'])"
      ]
    },
    {
      "cell_type": "code",
      "execution_count": null,
      "metadata": {
        "id": "dSdmWV60s6Fs"
      },
      "outputs": [],
      "source": [
        "# Sort the data by date\n",
        "df = df.sort_values('date')"
      ]
    },
    {
      "cell_type": "code",
      "execution_count": null,
      "metadata": {
        "id": "ejYH0eWYt5ZQ"
      },
      "outputs": [],
      "source": [
        "# Set the 'date' column as the index\n",
        "df.set_index('date', inplace=True)"
      ]
    },
    {
      "cell_type": "code",
      "execution_count": null,
      "metadata": {
        "id": "vDpylK24D5EA"
      },
      "outputs": [],
      "source": [
        "df"
      ]
    },
    {
      "cell_type": "code",
      "execution_count": null,
      "metadata": {
        "id": "DnaZZE-y9P1c"
      },
      "outputs": [],
      "source": [
        "df1 = df.drop('Date', axis=1)"
      ]
    },
    {
      "cell_type": "code",
      "execution_count": null,
      "metadata": {
        "id": "-0Fpsip69T7s"
      },
      "outputs": [],
      "source": [
        "df1"
      ]
    },
    {
      "cell_type": "code",
      "execution_count": null,
      "metadata": {
        "id": "zQFkQm7S3-jR"
      },
      "outputs": [],
      "source": [
        "#Use data until  days before as training\n",
        "x = len(df1)-182"
      ]
    },
    {
      "cell_type": "code",
      "execution_count": null,
      "metadata": {
        "id": "yW8AGJ2V4kce"
      },
      "outputs": [],
      "source": [
        "train=df1.iloc[:x]\n",
        "test = df1.iloc[x:]"
      ]
    },
    {
      "cell_type": "code",
      "execution_count": null,
      "metadata": {
        "id": "2ZL5D4dTMk0R"
      },
      "outputs": [],
      "source": [
        "plt.figure().set_figwidth(10)\n",
        "plt.plot(df1)\n",
        "plt.xlabel('Time point')\n",
        "plt.ylabel('Daily confirmed cases of COVID-19')\n",
        "plt.title('Time Plot of daily confirmed cases of COVID-19')\n",
        "plt.show()\n"
      ]
    },
    {
      "cell_type": "markdown",
      "metadata": {
        "id": "uWFeIe6Rtn9L"
      },
      "source": [
        "**Discriptive Statistics**"
      ]
    },
    {
      "cell_type": "code",
      "execution_count": null,
      "metadata": {
        "id": "Md7732GQtvG8"
      },
      "outputs": [],
      "source": [
        "df1['Daily cases'].describe()"
      ]
    },
    {
      "cell_type": "code",
      "execution_count": null,
      "metadata": {
        "id": "4oKDz-Net6qZ"
      },
      "outputs": [],
      "source": [
        "df['Daily cases'].kurtosis()"
      ]
    },
    {
      "cell_type": "code",
      "execution_count": null,
      "metadata": {
        "id": "uTlXmKqTt7sm"
      },
      "outputs": [],
      "source": [
        "df['Daily cases'].skew()"
      ]
    },
    {
      "cell_type": "code",
      "execution_count": null,
      "metadata": {
        "id": "vSCQxwQ6Bclb"
      },
      "outputs": [],
      "source": [
        "import matplotlib.pyplot as plt\n",
        "import numpy as np\n",
        "fig = plt.figure(figsize =(10, 7))\n",
        "plt.boxplot(df1)\n",
        "plt.show()"
      ]
    },
    {
      "cell_type": "markdown",
      "metadata": {
        "id": "LvaO-PKzWDrQ"
      },
      "source": [
        "**Trend Test**"
      ]
    },
    {
      "cell_type": "code",
      "execution_count": null,
      "metadata": {
        "id": "3Kt-jb3f3vrL"
      },
      "outputs": [],
      "source": [
        "#Trend test\n",
        "!pip install pymannkendall\n",
        "import  pymannkendall as mk\n",
        "trendtest=mk.original_test(df1)\n",
        "print(trendtest)\n",
        "trendtest.z"
      ]
    },
    {
      "cell_type": "markdown",
      "metadata": {
        "id": "vCvZdjy4WPsn"
      },
      "source": [
        "**Seasonality Test**"
      ]
    },
    {
      "cell_type": "code",
      "execution_count": null,
      "metadata": {
        "id": "tw9M0oPOVmNq"
      },
      "outputs": [],
      "source": [
        "from statsmodels.tsa.stattools import acf"
      ]
    },
    {
      "cell_type": "code",
      "execution_count": null,
      "metadata": {
        "id": "25h5ghuAVlpf"
      },
      "outputs": [],
      "source": [
        "# Calculate the autocorrelation function (ACF)\n",
        "lags = len(df) - 1  # Number of lags to consider\n",
        "acf_vals, conf_int = acf(df['Daily cases'], nlags=lags, alpha=0.05)"
      ]
    },
    {
      "cell_type": "code",
      "execution_count": null,
      "metadata": {
        "id": "dLzCmVXVVo-8"
      },
      "outputs": [],
      "source": [
        "# Plot the ACF\n",
        "plt.stem(range(lags+1), acf_vals)\n",
        "plt.xlabel('Lag')\n",
        "plt.ylabel('Autocorrelation')\n",
        "plt.title('Autocorrelation Function')\n",
        "plt.show()"
      ]
    },
    {
      "cell_type": "code",
      "execution_count": null,
      "metadata": {
        "id": "9JJCSU6sVrlL"
      },
      "outputs": [],
      "source": [
        "# Check for seasonality using the Ranksum test\n",
        "critical_value = conf_int[1][1]  # 95% confidence interval upper bound\n",
        "seasonal_lags = [i for i, acf_val in enumerate(acf_vals) if acf_val > critical_value]"
      ]
    },
    {
      "cell_type": "code",
      "execution_count": null,
      "metadata": {
        "id": "ljO1dsPMKVw-"
      },
      "outputs": [],
      "source": [
        "critical_value"
      ]
    },
    {
      "cell_type": "code",
      "execution_count": null,
      "metadata": {
        "id": "pxteYy0TVu2Z"
      },
      "outputs": [],
      "source": [
        "if len(seasonal_lags) > 0:\n",
        "    print('Seasonality detected at lags:', seasonal_lags)\n",
        "else:\n",
        "    print('No seasonality detected.')"
      ]
    },
    {
      "cell_type": "code",
      "execution_count": null,
      "metadata": {
        "id": "_CByNShpUBnj"
      },
      "outputs": [],
      "source": [
        "from statsmodels.tsa.seasonal import seasonal_decompose"
      ]
    },
    {
      "cell_type": "code",
      "execution_count": null,
      "metadata": {
        "id": "vbcGB-6i8Dc9"
      },
      "outputs": [],
      "source": [
        "decompose_result = seasonal_decompose(df1,model='additive',period=1)\n",
        "decompose_result.plot()\n",
        "plt.figure().set_figheight(30)\n",
        "plt.show()\n"
      ]
    },
    {
      "cell_type": "code",
      "execution_count": null,
      "metadata": {
        "id": "59ZJGFJJkVJe"
      },
      "outputs": [],
      "source": [
        "#To obtain the Stationary Series\n",
        "vo = np.var(df)\n",
        "print(\"Variance of Original Series\")\n",
        "print(vo)\n",
        "d1=np.diff(df['Daily cases'].values)\n",
        "v1 = np.var(d1)\n",
        "print(\"Variance of First Difference Series\")\n",
        "print(v1)\n",
        "\n",
        "if (vo.values < v1):\n",
        "    print(\"Original series is Stationary\")\n",
        "else:\n",
        "    print(\"Original series is not Stationary\")\n",
        "\n",
        "d2 = np.diff(d1)\n",
        "v2 = np.var(d2)\n",
        "print(\"Variance of Second Difference Series\")\n",
        "print(v2)\n",
        "\n",
        "if v1 < v2:\n",
        "    print(\"First Difference series is Stationary\")\n",
        "else:\n",
        "    print(\"First Difference series is not Stationary\")\n"
      ]
    },
    {
      "cell_type": "markdown",
      "metadata": {
        "id": "e3dixlk9qSDc"
      },
      "source": [
        "# **ARIMA MODEL**"
      ]
    },
    {
      "cell_type": "code",
      "execution_count": null,
      "metadata": {
        "id": "Rvw6MGES_XU8"
      },
      "outputs": [],
      "source": [
        "from statsmodels.graphics.tsaplots import plot_acf, plot_pacf"
      ]
    },
    {
      "cell_type": "code",
      "execution_count": null,
      "metadata": {
        "id": "wn2uDOU81XGP"
      },
      "outputs": [],
      "source": [
        "#to identify order q\n",
        "plot_acf(d1)\n",
        "plt.show()"
      ]
    },
    {
      "cell_type": "code",
      "execution_count": null,
      "metadata": {
        "id": "hCQh0sjp57gf"
      },
      "outputs": [],
      "source": [
        "plot_pacf(d1)\n",
        "plt.show()"
      ]
    },
    {
      "cell_type": "code",
      "execution_count": null,
      "metadata": {
        "id": "fj62IAPD9-47"
      },
      "outputs": [],
      "source": [
        "from statsmodels.tsa.arima.model import ARIMA"
      ]
    },
    {
      "cell_type": "code",
      "execution_count": null,
      "metadata": {
        "id": "vHGGTUCEOXLb"
      },
      "outputs": [],
      "source": [
        "#ARIMA MODEL WITH ORDER (1,1,1)\n",
        "import statsmodels.tsa.arima_model as ARIMA\n",
        "import statsmodels.api as sm\n",
        "model = sm.tsa.ARIMA(train, order=(1, 1, 1))\n",
        "model_fit=model.fit()\n",
        "model_fit.summary()"
      ]
    },
    {
      "cell_type": "code",
      "execution_count": null,
      "metadata": {
        "id": "DtSAUv2zGz22"
      },
      "outputs": [],
      "source": [
        "start=len(train)\n",
        "end=len(train)+len(test)-1\n",
        "pred_test=model_fit.predict(start=start,end=end,typ='levels')\n",
        "print(pred_test)"
      ]
    },
    {
      "cell_type": "code",
      "execution_count": null,
      "metadata": {
        "id": "Hb-vZdcPHU3B"
      },
      "outputs": [],
      "source": [
        "plt.plot(test, label='Actual',color='r')\n",
        "plt.plot(pred_test, label='Predicted',color='black')\n",
        "plt.title('PLOT OF ARIMA(1,1,1)')\n",
        "plt.legend()\n",
        "plt.show()"
      ]
    },
    {
      "cell_type": "markdown",
      "metadata": {
        "id": "AsJhQXcYkPpI"
      },
      "source": [
        "**Daily Data to Montly Data**"
      ]
    },
    {
      "cell_type": "code",
      "execution_count": null,
      "metadata": {
        "id": "ZXraKaT4jS58"
      },
      "outputs": [],
      "source": [
        "#daily to montly\n",
        "monthly_df=df1.resample(rule='MS').mean()"
      ]
    },
    {
      "cell_type": "code",
      "execution_count": null,
      "metadata": {
        "id": "q_tFDv5U_Tu6"
      },
      "outputs": [],
      "source": [
        "monthly_df"
      ]
    },
    {
      "cell_type": "code",
      "execution_count": null,
      "metadata": {
        "id": "DpUBg9ATkGQt"
      },
      "outputs": [],
      "source": [
        "monthly_df.plot()"
      ]
    },
    {
      "cell_type": "code",
      "execution_count": null,
      "metadata": {
        "colab": {
          "background_save": true
        },
        "id": "XaVghxjYag5Q"
      },
      "outputs": [],
      "source": [
        "import pandas as pd\n",
        "import matplotlib.pyplot as plt\n",
        "\n",
        "# Step 1: Prepare your data\n",
        "# Step 2: Generate the circle packing diagram\n",
        "fig, ax = plt.subplots(figsize=(20, 20))\n",
        "ax.scatter(monthly_df.index,monthly_df['Daily cases'], s=monthly_df['Daily cases'], alpha=0.7)\n",
        "ax.set_xlabel('Timestamp')\n",
        "ax.set_ylabel('Value')\n",
        "plt.figure().set_figwidth(20)\n",
        "plt.show()\n"
      ]
    },
    {
      "cell_type": "code",
      "execution_count": null,
      "metadata": {
        "id": "wkgz-Ae2wbGw"
      },
      "outputs": [],
      "source": [
        "!pip install imojify\n",
        "from imojify import imojify\n",
        "from matplotlib import pyplot as plt\n",
        "from matplotlib.offsetbox import OffsetImage, AnnotationBbox\n",
        "\n",
        "def offset_image(cords, emoji, ax):\n",
        "    img = plt.imread(imojify.get_img_path(emoji))\n",
        "    im = OffsetImage(img, zoom=0.08)\n",
        "    im.image.axes = ax\n",
        "    ab = AnnotationBbox(im, (cords[0], cords[1]), frameon=False, pad=0)\n",
        "    ax.add_artist(ab)\n",
        "\n",
        "dates =  ['2020-01-01', '2020-02-01', '2020-03-01', '2020-04-01', '2020-05-01', '2020-06-01', '2020-07-01', '2020-08-01', '2020-09-01', '2020-10-01', '2020-11-01', '2020-12-01', '2021-01-01', '2021-02-01', '2021-03-01', '2021-04-01', '2021-05-01', '2021-06-01', '2021-07-01', '2021-08-01', '2021-09-01', '2021-10-01', '2021-11-01', '2021-12-01', '2022-01-01', '2022-02-01', '2022-03-01', '2022-04-01', '2022-05-01', '2022-06-01', '2022-07-01', '2022-08-01', '2022-09-01', '2022-10-01', '2022-11-01', '2022-12-01', '2023-01-01', '2023-02-01', '2023-03-01']\n",
        "values = [0.100000, 0.068966, 44.967742, 1115.533333, 5024.064516, 13162.400000, 35822.806452, 64360.580645, 87380.600000, 60370.903226, 42624.233333, 26577.419355, 15190.354839, 12665.392857, 35787.870968, 231443.466667, 290647.580645, 74553.000000, 40135.161290, 37258.741935, 31862.066667, 16745.387097, 10365.400000, 8542.032258, 213158.709677, 52198.071429, 3055.806452, 1780.433333, 2633.677419, 10280.066667, 18291.645161, 12905.290323, 5159.100000, 2107.322581, 735.633333, 193.870968, 137.000000, 178.071429, 322.333333]\n",
        "high_emoji ='😔'  # Emoji for high values\n",
        "low_emoji = '😃'  # Emoji for low values\n",
        "\n",
        "fig, ax = plt.subplots(figsize=(12, 8))\n",
        "ax.plot(dates, values, marker='o', linestyle='-', color='b')\n",
        "ax.set_ylim((0, max(values) + 10))\n",
        "ax.set_xticks(range(len(dates)))\n",
        "ax.set_xticklabels(dates, rotation=45)\n",
        "\n",
        "for val in values:\n",
        "    if val >= 1000:\n",
        "        emoji = high_emoji\n",
        "    else:\n",
        "        emoji = low_emoji\n",
        "    offset_image([dates[values.index(val)], val], emoji, ax)\n",
        "\n",
        "plt.show()\n"
      ]
    },
    {
      "cell_type": "code",
      "execution_count": null,
      "metadata": {
        "id": "q0CNG_SAj-fl"
      },
      "outputs": [],
      "source": [
        "import numpy as np\n",
        "import pandas as pd\n",
        "import matplotlib.pyplot as plt\n",
        "from scipy import signal\n",
        "\n",
        "# Extract the values and convert to numpy array\n",
        "values = monthly_df.iloc[:, 0].values\n",
        "\n",
        "# Set the sampling rate\n",
        "sampling_rate = 1  # Assuming monthly data\n",
        "\n",
        "# Set the parameters for the spectrogram calculation\n",
        "window_length = 12  # Number of data points in each segment (e.g., 12 months)\n",
        "overlap = 0.5  # Overlap between adjacent segments (e.g., 50% overlap)\n",
        "\n",
        "# Calculate the spectrogram\n",
        "frequencies, times, spectrogram = signal.spectrogram(values, fs=sampling_rate,\n",
        "                                                    window='hann', noverlap=int(window_length * overlap),\n",
        "                                                    nperseg=window_length)\n",
        "\n",
        "# Plot the spectrogram\n",
        "plt.figure(figsize=(10, 6))\n",
        "plt.imshow(10 * np.log10(spectrogram), aspect='auto', origin='lower', cmap='inferno')\n",
        "plt.colorbar(label='Power Spectral Density (dB)')\n",
        "plt.xlabel('Time')\n",
        "plt.ylabel('Frequency')\n",
        "plt.title('Spectrogram')\n",
        "plt.show()\n"
      ]
    },
    {
      "cell_type": "code",
      "execution_count": null,
      "metadata": {
        "colab": {
          "background_save": true
        },
        "id": "pwHo9wCVwgCW"
      },
      "outputs": [],
      "source": [
        "import numpy as np\n",
        "import matplotlib.pyplot as plt\n",
        "from scipy.cluster.hierarchy import dendrogram, linkage\n",
        "\n",
        "# Perform hierarchical clustering\n",
        "Z = linkage(monthly_df, method='ward')\n",
        "\n",
        "# Plot the dendrogram\n",
        "plt.figure().set_figwidth(40)\n",
        "plt.figure().set_figheight(10)\n",
        "dendrogram(Z)\n",
        "plt.xlabel('Sample Index')\n",
        "plt.ylabel('Distance')\n",
        "plt.title('Dendrogram')\n",
        "plt.show()\n"
      ]
    },
    {
      "cell_type": "code",
      "execution_count": null,
      "metadata": {
        "id": "nzr9j9f8Eobz"
      },
      "outputs": [],
      "source": [
        "import matplotlib.pyplot as plt\n",
        "\n",
        "# Create a DataFrame with the daily cases data\n",
        "monthly_df = pd.DataFrame({\n",
        "    'date': ['2020-01-01', '2020-02-01', '2020-03-01', '2020-04-01', '2020-05-01', '2020-06-01', '2020-07-01', '2020-08-01', '2020-09-01', '2020-10-01', '2020-11-01', '2020-12-01', '2021-01-01', '2021-02-01', '2021-03-01', '2021-04-01', '2021-05-01', '2021-06-01', '2021-07-01', '2021-08-01', '2021-09-01', '2021-10-01', '2021-11-01', '2021-12-01', '2022-01-01', '2022-02-01', '2022-03-01', '2022-04-01', '2022-05-01', '2022-06-01', '2022-07-01', '2022-08-01', '2022-09-01', '2022-10-01', '2022-11-01', '2022-12-01', '2023-01-01', '2023-02-01', '2023-03-01'],\n",
        "    'daily_cases': [0.100000, 0.068966, 44.967742, 1115.533333, 5024.064516, 13162.400000, 35822.806452, 64360.580645, 87380.600000, 60370.903226, 42624.233333, 26577.419355, 15190.354839, 12665.392857, 35787.870968, 231443.466667, 290647.580645, 74553.000000, 40135.161290, 37258.741935, 31862.066667, 16745.387097, 10365.400000, 8542.032258, 213158.709677, 52198.071429, 3055.806452, 1780.433333, 2633.677419, 10280.066667, 18291.645161, 12905.290323, 5159.100000, 2107.322581, 735.633333, 193.870968, 137.000000, 178.071429, 322.333333]\n",
        "})\n",
        "\n",
        "# Convert the 'date' column to datetime format and set it as the index\n",
        "monthly_df['date'] = pd.to_datetime(monthly_df['date'])\n",
        "monthly_df.set_index('date', inplace=True)\n",
        "\n",
        "# Set the figure size\n",
        "plt.figure(figsize=(10, 6))\n",
        "\n",
        "# Create the bar chart\n",
        "plt.bar(monthly_df.index, monthly_df['daily_cases'], width=20)\n",
        "\n",
        "# Format the x-axis labels as dates\n",
        "plt.xticks(rotation=45, ha='right')\n",
        "\n",
        "# Add labels and title\n",
        "plt.xlabel('Date')\n",
        "plt.ylabel('Daily Cases')\n",
        "plt.title('Daily Cases Bar Chart')\n",
        "\n",
        "# Display the chart\n",
        "plt.tight_layout()\n",
        "plt.show()\n"
      ]
    },
    {
      "cell_type": "markdown",
      "metadata": {
        "id": "2PeeSu3sfnmW"
      },
      "source": [
        "# **HOLT WINTERS DOUBLE EXPONENTIAL**"
      ]
    },
    {
      "cell_type": "code",
      "execution_count": null,
      "metadata": {
        "id": "NCykMr6ff1xj"
      },
      "outputs": [],
      "source": [
        "# double exponential smoothing\n",
        "from statsmodels.tsa.holtwinters import ExponentialSmoothing"
      ]
    },
    {
      "cell_type": "code",
      "execution_count": null,
      "metadata": {
        "id": "jVd3O81WgWEu"
      },
      "outputs": [],
      "source": [
        "hwmodel= ExponentialSmoothing(train,trend='add')\n",
        "hwmodel_fit=hwmodel.fit()\n",
        "hwmodel_fit.summary()"
      ]
    },
    {
      "cell_type": "code",
      "execution_count": null,
      "metadata": {
        "id": "2K-gGSA9k1ZE"
      },
      "outputs": [],
      "source": [
        "test_pred = hwmodel_fit.predict(start=test.index[0], end=test.index[-1])"
      ]
    },
    {
      "cell_type": "code",
      "execution_count": null,
      "metadata": {
        "id": "el_eGbiHgzP7"
      },
      "outputs": [],
      "source": [
        "test_pred"
      ]
    },
    {
      "cell_type": "code",
      "execution_count": null,
      "metadata": {
        "id": "v5Zb-fSntJfS"
      },
      "outputs": [],
      "source": [
        "plt.plot(test, label='Actual',color='r')\n",
        "plt.plot(test_pred, label='Predicted',color='black')\n",
        "plt.legend()\n",
        "plt.show()"
      ]
    },
    {
      "cell_type": "markdown",
      "metadata": {
        "id": "truqcpIvwf-6"
      },
      "source": [
        "# **LSTM MODEL**"
      ]
    },
    {
      "cell_type": "code",
      "execution_count": null,
      "metadata": {
        "colab": {
          "background_save": true
        },
        "id": "NC50SRY7vvGb"
      },
      "outputs": [],
      "source": [
        "from sklearn.preprocessing import MinMaxScaler\n",
        "\n",
        "scaler = MinMaxScaler(feature_range=(0, 1))\n",
        "\n",
        "train_data = scaler.fit_transform(train)\n",
        "test_data = scaler.fit_transform(test)"
      ]
    },
    {
      "cell_type": "code",
      "execution_count": null,
      "metadata": {
        "id": "5mhpq3etAm12"
      },
      "outputs": [],
      "source": [
        "#training stage\n",
        "from tensorflow.keras.models import Sequential\n",
        "from tensorflow.keras.layers import LSTM, Dense"
      ]
    },
    {
      "cell_type": "code",
      "execution_count": null,
      "metadata": {
        "id": "5g8lNfhAxF1O"
      },
      "outputs": [],
      "source": [
        "nsteps=10\n",
        "nfeatures=1"
      ]
    },
    {
      "cell_type": "code",
      "execution_count": null,
      "metadata": {
        "id": "cMnfFUYUv19O"
      },
      "outputs": [],
      "source": [
        "train_x = np.array([train_data[i - nsteps:i, :] for i in range(nsteps,len(train))])\n",
        "train_y = np.array([train_data[i, 0] for i in range(nsteps, len(train))])\n",
        "\n",
        "test_x = np.array([test_data[i - nsteps:i, :] for i in range(nsteps,len(test))])\n",
        "test_y = np.array([test_data[i, 0] for i in range(nsteps,len(test))])"
      ]
    },
    {
      "cell_type": "code",
      "execution_count": null,
      "metadata": {
        "colab": {
          "background_save": true
        },
        "id": "hRaVItujwpaT"
      },
      "outputs": [],
      "source": [
        "model = Sequential([\n",
        "    LSTM(units=50, input_shape=(nsteps, nfeatures), return_sequences=True),\n",
        "    LSTM(units=50),\n",
        "    Dense(units=35),\n",
        "    Dense(units=nfeatures)\n",
        "])"
      ]
    },
    {
      "cell_type": "code",
      "execution_count": null,
      "metadata": {
        "id": "dk3IKyUcWd4t"
      },
      "outputs": [],
      "source": [
        "model.summary()"
      ]
    },
    {
      "cell_type": "code",
      "execution_count": null,
      "metadata": {
        "colab": {
          "background_save": true
        },
        "id": "cAblNDu_wwVr"
      },
      "outputs": [],
      "source": [
        "model.compile(optimizer='adam', loss='mean_squared_error')"
      ]
    },
    {
      "cell_type": "code",
      "execution_count": null,
      "metadata": {
        "id": "UuEIcw0BwwmK"
      },
      "outputs": [],
      "source": [
        "model.fit(x=train_x, y=train_y, batch_size=1, epochs=5)"
      ]
    },
    {
      "cell_type": "code",
      "execution_count": null,
      "metadata": {
        "id": "CoKnE376w2wl"
      },
      "outputs": [],
      "source": [
        "predictions = model.predict(test_x)"
      ]
    },
    {
      "cell_type": "code",
      "execution_count": null,
      "metadata": {
        "id": "I3noeOevw3v8"
      },
      "outputs": [],
      "source": [
        "pred = scaler.inverse_transform(predictions)"
      ]
    },
    {
      "cell_type": "code",
      "execution_count": null,
      "metadata": {
        "id": "MeRwXrmNBzS9"
      },
      "outputs": [],
      "source": [
        "test_l=test_y.reshape(-1,1)"
      ]
    },
    {
      "cell_type": "code",
      "execution_count": null,
      "metadata": {
        "id": "lPC0CNzew9Oj"
      },
      "outputs": [],
      "source": [
        "t=scaler.inverse_transform(test_l)"
      ]
    },
    {
      "cell_type": "code",
      "execution_count": null,
      "metadata": {
        "id": "HDMhBPZ4w90v"
      },
      "outputs": [],
      "source": [
        "plt.plot(t)\n",
        "plt.plot(pred)\n",
        "plt.legend(['test', 'pred'])\n",
        "plt.title('Plot of Actual vs Forecasted of Long Short-Term Memory')\n",
        "plt.show()"
      ]
    },
    {
      "cell_type": "code",
      "execution_count": null,
      "metadata": {
        "colab": {
          "base_uri": "https://localhost:8080/"
        },
        "id": "6PEx2Gu7yAc0",
        "outputId": "00e0c43b-edb1-49a3-8945-04ad03360127"
      },
      "outputs": [
        {
          "name": "stdout",
          "output_type": "stream",
          "text": [
            "Prediction of tomorrow is 221\n"
          ]
        }
      ],
      "source": [
        "#Prediction of tomorrow\n",
        "print(f'Prediction of tomorrow is {int(pred[-1, 0])}')"
      ]
    },
    {
      "cell_type": "code",
      "execution_count": null,
      "metadata": {
        "id": "K00shpZrASs5"
      },
      "outputs": [],
      "source": [
        "from sklearn.metrics import mean_squared_error\n",
        "from math import sqrt\n",
        "# To calculate Mean Squared Error\n",
        "rmse = sqrt(mean_squared_error(pred,t))\n",
        "print(\"RMSE:\", rmse)"
      ]
    },
    {
      "cell_type": "code",
      "execution_count": null,
      "metadata": {
        "id": "shpFMR9WIyzT"
      },
      "outputs": [],
      "source": [
        "from sklearn.metrics import mean_absolute_error as mae\n",
        "mae(t,pred)"
      ]
    },
    {
      "cell_type": "markdown",
      "metadata": {
        "id": "6CW9hBmxpzM3"
      },
      "source": [
        "# **RNN MODEL**"
      ]
    },
    {
      "cell_type": "code",
      "execution_count": null,
      "metadata": {
        "id": "-G7EJnu3k7yp"
      },
      "outputs": [],
      "source": [
        "import numpy as np\n",
        "import pandas as pd\n",
        "from sklearn.preprocessing import MinMaxScaler\n",
        "from tensorflow.keras.models import Sequential\n",
        "from tensorflow.keras.layers import Dense, SimpleRNN"
      ]
    },
    {
      "cell_type": "code",
      "execution_count": null,
      "metadata": {
        "id": "Nd5hciu0yVeU"
      },
      "outputs": [],
      "source": [
        "from sklearn.preprocessing import MinMaxScaler\n",
        "##scale or normalize data as the data is too skewed\n",
        "scaler = MinMaxScaler(feature_range=(0, 1))\n",
        "\n",
        "train_data = scaler.fit_transform(train)\n",
        "test_data = scaler.fit_transform(test)"
      ]
    },
    {
      "cell_type": "code",
      "execution_count": null,
      "metadata": {
        "id": "ZyN1oMbhyiD0"
      },
      "outputs": [],
      "source": [
        "nsteps=10\n",
        "nfeatures=1"
      ]
    },
    {
      "cell_type": "code",
      "execution_count": null,
      "metadata": {
        "id": "m_v5rPiAycbI"
      },
      "outputs": [],
      "source": [
        "train_x = np.array([train_data[i - nsteps:i, :] for i in range(nsteps,len(train))])\n",
        "train_y = np.array([train_data[i, 0] for i in range(nsteps, len(train))])\n",
        "\n",
        "test_x = np.array([test_data[i - nsteps:i, :] for i in range(nsteps,len(test))])\n",
        "test_y = np.array([test_data[i, 0] for i in range(nsteps,len(test))])"
      ]
    },
    {
      "cell_type": "code",
      "execution_count": null,
      "metadata": {
        "id": "Zv2ezSi2SNvV"
      },
      "outputs": [],
      "source": [
        "from keras.activations import relu"
      ]
    },
    {
      "cell_type": "code",
      "execution_count": null,
      "metadata": {
        "id": "Hrgt9uC4ylNF"
      },
      "outputs": [],
      "source": [
        "model_1 = Sequential([\n",
        "    SimpleRNN(units=50, input_shape=(nsteps, nfeatures), return_sequences=True),\n",
        "    SimpleRNN(units=50),\n",
        "    Dense(units=35),\n",
        "    Dense(units=nfeatures)\n",
        "])"
      ]
    },
    {
      "cell_type": "code",
      "execution_count": null,
      "metadata": {
        "id": "ZtFRROPZE8ZY"
      },
      "outputs": [],
      "source": [
        "model_1.summary()"
      ]
    },
    {
      "cell_type": "code",
      "execution_count": null,
      "metadata": {
        "id": "vVrNPzOXyoGi"
      },
      "outputs": [],
      "source": [
        "model_1.compile(optimizer='adam', loss='mean_squared_error')"
      ]
    },
    {
      "cell_type": "code",
      "execution_count": null,
      "metadata": {
        "id": "7jLxG0ZEyopz"
      },
      "outputs": [],
      "source": [
        "model_1.fit(x=train_x, y=train_y, batch_size=1, epochs=5)"
      ]
    },
    {
      "cell_type": "code",
      "execution_count": null,
      "metadata": {
        "id": "-V-tjwnNy9UI"
      },
      "outputs": [],
      "source": [
        "predictions = model_1.predict(test_x)"
      ]
    },
    {
      "cell_type": "code",
      "execution_count": null,
      "metadata": {
        "id": "MdQTz7L3zAqi"
      },
      "outputs": [],
      "source": [
        "pred_1 = scaler.inverse_transform(predictions)"
      ]
    },
    {
      "cell_type": "code",
      "execution_count": null,
      "metadata": {
        "id": "fgavdZAxzBRm"
      },
      "outputs": [],
      "source": [
        "plt.plot(t)\n",
        "plt.plot(pred_1)\n",
        "plt.legend(['Actual', 'Forecasted'])\n",
        "plt.title('Plot of Actual vs Forecasted of Recurrent Neural Network')\n",
        "plt.show()"
      ]
    },
    {
      "cell_type": "code",
      "execution_count": null,
      "metadata": {
        "id": "EGm86Nn3DMGO"
      },
      "outputs": [],
      "source": [
        "from sklearn.metrics import mean_squared_error\n",
        "from math import sqrt\n",
        "# To calculate Mean Squared Error\n",
        "rmse = sqrt(mean_squared_error(pred_1,t))\n",
        "print(\"RMSE:\", rmse)"
      ]
    },
    {
      "cell_type": "code",
      "execution_count": null,
      "metadata": {
        "id": "enLhKQr8IVug"
      },
      "outputs": [],
      "source": [
        "from sklearn.metrics import mean_absolute_error as mae\n",
        "mae(t, pred_1)"
      ]
    },
    {
      "cell_type": "markdown",
      "metadata": {
        "id": "wTdabqncEW31"
      },
      "source": [
        "# **GATED RECURRENT UNIT**"
      ]
    },
    {
      "cell_type": "code",
      "execution_count": null,
      "metadata": {
        "id": "obQGzhBVB3uZ"
      },
      "outputs": [],
      "source": [
        "from keras.layers import Dense, LSTM, Dropout, GRU, Bidirectional\n",
        "from keras.optimizers import SGD"
      ]
    },
    {
      "cell_type": "code",
      "execution_count": null,
      "metadata": {
        "id": "lq1f5Q8sF0YJ"
      },
      "outputs": [],
      "source": [
        "train_x = np.array([train_data[i - nsteps:i, :] for i in range(nsteps,len(train))])\n",
        "train_y = np.array([train_data[i, 0] for i in range(nsteps, len(train))])\n",
        "\n",
        "test_x = np.array([test_data[i - nsteps:i, :] for i in range(nsteps,len(test))])\n",
        "test_y = np.array([test_data[i, 0] for i in range(nsteps,len(test))])"
      ]
    },
    {
      "cell_type": "code",
      "execution_count": null,
      "metadata": {
        "id": "LNAEvZo2GPn1"
      },
      "outputs": [],
      "source": [
        "nsteps=10\n",
        "nfeatures=1"
      ]
    },
    {
      "cell_type": "code",
      "execution_count": null,
      "metadata": {
        "id": "CtnG3b_BFuyq"
      },
      "outputs": [],
      "source": [
        "model = Sequential()\n",
        "model.add(GRU(128, input_shape=(nsteps, nfeatures), return_sequences=True))\n",
        "model.add(GRU(128))\n",
        "model.add(Dense(1))\n",
        "model.add(Dense(units=nfeatures))"
      ]
    },
    {
      "cell_type": "code",
      "execution_count": null,
      "metadata": {
        "id": "9XevqXupbgev"
      },
      "outputs": [],
      "source": [
        "model.summary()"
      ]
    },
    {
      "cell_type": "code",
      "execution_count": null,
      "metadata": {
        "id": "O67gNYr2F_gY"
      },
      "outputs": [],
      "source": [
        "model.compile(loss=\"mse\", optimizer=\"adam\")"
      ]
    },
    {
      "cell_type": "code",
      "execution_count": null,
      "metadata": {
        "id": "lCgctUJHHYle"
      },
      "outputs": [],
      "source": [
        "model.fit(x=train_x, y=train_y, batch_size=1, epochs=5)"
      ]
    },
    {
      "cell_type": "code",
      "execution_count": null,
      "metadata": {
        "id": "Gt6VoppOHu1N"
      },
      "outputs": [],
      "source": [
        "predictions = model.predict(test_x)"
      ]
    },
    {
      "cell_type": "code",
      "execution_count": null,
      "metadata": {
        "id": "nNeW8GI5H0lY"
      },
      "outputs": [],
      "source": [
        "pred_2 = scaler.inverse_transform(predictions)"
      ]
    },
    {
      "cell_type": "code",
      "execution_count": null,
      "metadata": {
        "id": "207WghDzIAN-"
      },
      "outputs": [],
      "source": [
        "plt.plot(t)\n",
        "plt.plot(pred_2)\n",
        "plt.legend(['test', 'pred'])\n",
        "plt.title('Plot of Actual vs Forecasted of Gated Recurrent Unit')\n",
        "plt.show()"
      ]
    },
    {
      "cell_type": "code",
      "execution_count": null,
      "metadata": {
        "id": "Dj2FwUS5IBco"
      },
      "outputs": [],
      "source": [
        "from sklearn.metrics import mean_squared_error\n",
        "from math import sqrt\n",
        "# To calculate Mean Squared Error\n",
        "rmse = sqrt(mean_squared_error(pred_2,t))\n",
        "print(\"RMSE:\", rmse)"
      ]
    },
    {
      "cell_type": "code",
      "execution_count": null,
      "metadata": {
        "id": "n4GY0JdtJ-o5"
      },
      "outputs": [],
      "source": [
        "from sklearn.metrics import mean_absolute_error as mae\n",
        "mae(t, pred_2)"
      ]
    },
    {
      "cell_type": "markdown",
      "metadata": {
        "id": "8u9zXc-BQthw"
      },
      "source": [
        "# **NORMALITY TEST**"
      ]
    },
    {
      "cell_type": "code",
      "execution_count": null,
      "metadata": {
        "id": "QNi7YDbJRLnc"
      },
      "outputs": [],
      "source": [
        "from scipy import stats"
      ]
    },
    {
      "cell_type": "code",
      "execution_count": null,
      "metadata": {
        "colab": {
          "base_uri": "https://localhost:8080/"
        },
        "id": "ZbWGkxjWQom4",
        "outputId": "e53ed221-3474-4233-9483-cb82aefdf290"
      },
      "outputs": [
        {
          "name": "stdout",
          "output_type": "stream",
          "text": [
            "Shapiro-Wilk Test Statistic: 0.6820235252380371\n",
            "p-value: 2.577175910589095e-18\n",
            "Sample does not look Gaussian (reject H0)\n"
          ]
        }
      ],
      "source": [
        "statistic, p_value = stats.shapiro(test)\n",
        "\n",
        "# Print the test results\n",
        "print(\"Shapiro-Wilk Test Statistic:\", statistic)\n",
        "print(\"p-value:\", p_value)\n",
        "\n",
        "# Interpret the test results\n",
        "alpha = 0.05\n",
        "if p_value > alpha:\n",
        "    print(\"Sample looks Gaussian (fail to reject H0)\")\n",
        "else:\n",
        "    print(\"Sample does not look Gaussian (reject H0)\")"
      ]
    },
    {
      "cell_type": "markdown",
      "metadata": {
        "id": "kPK3U7j_mY-E"
      },
      "source": [
        "**Mann-Whitney U test**"
      ]
    },
    {
      "cell_type": "code",
      "execution_count": null,
      "metadata": {
        "id": "DGPtiy8bThH4"
      },
      "outputs": [],
      "source": [
        "#The null hypothesis (H0) for the Shapiro-Wilk test is that the data is normally distributed.\n",
        "#not normal go for non parametric test"
      ]
    },
    {
      "cell_type": "code",
      "execution_count": null,
      "metadata": {
        "id": "XXFKU_eWhzNe"
      },
      "outputs": [],
      "source": [
        "#LSTM"
      ]
    },
    {
      "cell_type": "code",
      "execution_count": null,
      "metadata": {
        "id": "O6c4jeSRhvCF"
      },
      "outputs": [],
      "source": [
        "statistic, p_value = stats.mannwhitneyu(test, pred)\n",
        "\n",
        "# Print the test results\n",
        "#print(\"Mann-Whitney U statistic:\", statistic)\n",
        "#print(\"p-value:\", p_value)\n",
        "#the null hypothesis (H0) for the Mann-Whitney U test is that there is no significant difference between the two groups(u1=u2)\n",
        "# Interpret the test results\n",
        "alpha = 0.05\n",
        "if all(p_value > alpha):\n",
        "    print(\"No significant difference between the groups (fail to reject H0)\")\n",
        "else:\n",
        "    print(\"Significant difference between the groups (reject H0)\")"
      ]
    },
    {
      "cell_type": "code",
      "execution_count": null,
      "metadata": {
        "id": "3nJovczckXt1"
      },
      "outputs": [],
      "source": [
        "#GRU"
      ]
    },
    {
      "cell_type": "code",
      "execution_count": null,
      "metadata": {
        "colab": {
          "base_uri": "https://localhost:8080/"
        },
        "id": "4gPs_YM5kVI5",
        "outputId": "c2de6162-429d-473f-bd85-72f15175697e"
      },
      "outputs": [
        {
          "name": "stdout",
          "output_type": "stream",
          "text": [
            "No significant difference between the groups (fail to reject H0)\n"
          ]
        }
      ],
      "source": [
        "statistic, p_value = stats.mannwhitneyu(test, pred_2)\n",
        "\n",
        "# Print the test results\n",
        "#print(\"Mann-Whitney U statistic:\", statistic)\n",
        "#print(\"p-value:\", p_value)\n",
        "#the null hypothesis (H0) for the Mann-Whitney U test is that there is no significant difference between the two groups(u1=u2)\n",
        "# Interpret the test results\n",
        "alpha = 0.05\n",
        "if all(p_value > alpha):\n",
        "    print(\"No significant difference between the groups (fail to reject H0)\")\n",
        "else:\n",
        "    print(\"Significant difference between the groups (reject H0)\")"
      ]
    },
    {
      "cell_type": "code",
      "execution_count": null,
      "metadata": {
        "id": "Alo1oO20lSNs"
      },
      "outputs": [],
      "source": [
        "#RNN"
      ]
    },
    {
      "cell_type": "code",
      "execution_count": null,
      "metadata": {
        "colab": {
          "base_uri": "https://localhost:8080/"
        },
        "id": "lFaakQiWlUO6",
        "outputId": "0f17034a-7d1e-4612-f284-b50a7cecd41a"
      },
      "outputs": [
        {
          "name": "stdout",
          "output_type": "stream",
          "text": [
            "No significant difference between the groups (fail to reject H0)\n"
          ]
        }
      ],
      "source": [
        "statistic, p_value = stats.mannwhitneyu(test, pred_1)\n",
        "\n",
        "# Print the test results\n",
        "#print(\"Mann-Whitney U statistic:\", statistic)\n",
        "#print(\"p-value:\", p_value)\n",
        "#the null hypothesis (H0) for the Mann-Whitney U test is that there is no significant difference between the two groups(u1=u2)\n",
        "# Interpret the test results\n",
        "alpha = 0.05\n",
        "if all(p_value > alpha):\n",
        "    print(\"No significant difference between the groups (fail to reject H0)\")\n",
        "else:\n",
        "    print(\"Significant difference between the groups (reject H0)\")"
      ]
    }
  ],
  "metadata": {
    "colab": {
      "collapsed_sections": [
        "e3dixlk9qSDc",
        "2PeeSu3sfnmW",
        "truqcpIvwf-6",
        "6CW9hBmxpzM3",
        "wTdabqncEW31",
        "8u9zXc-BQthw"
      ],
      "provenance": [],
      "mount_file_id": "1IQnlvBSV9U8z4OQm02oxbId6svxpOkVE",
      "authorship_tag": "ABX9TyPhuD3M0qqsNC+lQifkOCSi",
      "include_colab_link": true
    },
    "kernelspec": {
      "display_name": "Python 3",
      "name": "python3"
    },
    "language_info": {
      "name": "python"
    }
  },
  "nbformat": 4,
  "nbformat_minor": 0
}